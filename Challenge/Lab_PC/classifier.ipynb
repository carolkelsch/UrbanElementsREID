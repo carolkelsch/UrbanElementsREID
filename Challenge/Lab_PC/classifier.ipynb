{
 "cells": [
  {
   "cell_type": "code",
   "execution_count": null,
   "metadata": {},
   "outputs": [],
   "source": [
    "!pip install torch torchvision"
   ]
  },
  {
   "cell_type": "code",
   "execution_count": 14,
   "metadata": {},
   "outputs": [],
   "source": [
    "import torch\n",
    "import torch.nn as nn\n",
    "import torch.nn.functional as F\n",
    "import torch.optim as optim\n",
    "from torchvision import datasets, transforms, models\n",
    "from torch.utils.data import DataLoader\n",
    "from torchvision.datasets import ImageFolder\n",
    "from collections import Counter\n",
    "\n",
    "# Configuration\n",
    "device = torch.device('cuda' if torch.cuda.is_available() else 'cpu')\n",
    "batch_size = 128\n",
    "epochs = 20\n",
    "learning_rate = 1.4e-4"
   ]
  },
  {
   "cell_type": "code",
   "execution_count": 3,
   "metadata": {},
   "outputs": [],
   "source": [
    "class FocalLoss(nn.Module):\n",
    "    def __init__(self, gamma=2.0, weight=None):\n",
    "        super(FocalLoss, self).__init__()\n",
    "        self.gamma = gamma\n",
    "        self.weight = weight  # Class weights (for imbalance), can be a Tensor\n",
    "\n",
    "    def forward(self, inputs, targets):\n",
    "        ce_loss = F.cross_entropy(inputs, targets, weight=self.weight, reduction='none')\n",
    "        pt = torch.exp(-ce_loss)\n",
    "        focal_loss = ((1 - pt) ** self.gamma * ce_loss).mean()\n",
    "        return focal_loss\n"
   ]
  },
  {
   "cell_type": "code",
   "execution_count": 4,
   "metadata": {},
   "outputs": [],
   "source": [
    "# Data loading and preprocessing\n",
    "transform = transforms.Compose([\n",
    "    transforms.Resize((224,224)),  # ResNet-50 expects 224x224 input\n",
    "    transforms.ToTensor(),\n",
    "    transforms.Normalize((0.485, 0.456, 0.406), (0.229, 0.224, 0.225)) # from pretrained weights on ImageNet\n",
    "])\n",
    "train_dataset = ImageFolder(root='/media/DiscoLocal/IPCV/Carolina/classification/image_train', transform=transform)\n",
    "val_dataset = ImageFolder(root='/media/DiscoLocal/IPCV/Carolina/classification/image_query', transform=transform)\n",
    "test_dataset = ImageFolder(root='/media/DiscoLocal/IPCV/Carolina/classification/image_test', transform=transform)\n",
    "\n",
    "train_loader = DataLoader(train_dataset, batch_size=batch_size, shuffle=True)\n",
    "val_loader = DataLoader(val_dataset, batch_size=batch_size, shuffle=False)\n",
    "test_loader = DataLoader(test_dataset, batch_size=batch_size, shuffle=False)\n",
    "\n",
    "num_classes = len(train_dataset.classes)\n",
    "\n",
    "# Compute class weights (optional, for severe imbalance)\n",
    "labels = [label for _, label in train_dataset]\n",
    "class_counts = Counter(labels)\n",
    "total = sum(class_counts.values())\n",
    "weights = torch.tensor([total / class_counts[i] for i in range(num_classes)], dtype=torch.float)\n",
    "weights = weights.to(device)"
   ]
  },
  {
   "cell_type": "code",
   "execution_count": 7,
   "metadata": {},
   "outputs": [],
   "source": [
    "def training_loop(model, criterion, optimizer, train_loader, val_loader):\n",
    "    # Training loop\n",
    "    for epoch in range(epochs):\n",
    "        model.train()\n",
    "        total_loss = 0\n",
    "        for images, labels in train_loader:\n",
    "            images, labels = images.to(device), labels.to(device)\n",
    "\n",
    "            outputs = model(images)\n",
    "            loss = criterion(outputs, labels)\n",
    "\n",
    "            optimizer.zero_grad()\n",
    "            loss.backward()\n",
    "            optimizer.step()\n",
    "\n",
    "            total_loss += loss.item()\n",
    "\n",
    "        print(f\"Epoch [{epoch+1}/{epochs}], Loss: {total_loss/len(train_loader):.4f}\")\n",
    "\n",
    "        # validate\n",
    "        model.eval()\n",
    "        val_loss = 0.0\n",
    "        val_correct = 0\n",
    "        val_total = 0\n",
    "        \n",
    "        with torch.no_grad():\n",
    "            for images, labels in val_loader:\n",
    "                images, labels = images.to(device), labels.to(device)\n",
    "\n",
    "                outputs = model(images)\n",
    "                loss = criterion(outputs, labels)\n",
    "                val_loss += loss.item()\n",
    "\n",
    "                # Convert logits to probabilities\n",
    "                probs = F.softmax(outputs, dim=1)  # shape: [batch_size, num_classes]\n",
    "\n",
    "                # Get predicted class and confidence\n",
    "                _, preds = torch.max(probs, dim=1)  # both are [batch_size]\n",
    "\n",
    "                val_total += labels.size(0)\n",
    "                val_correct += (preds == labels).sum().item()\n",
    "\n",
    "        avg_val_loss = val_loss / len(val_loader)\n",
    "        val_acc = 100 * val_correct / val_total\n",
    "        print(f\"            Val Loss: {avg_val_loss:.4f} | Val Acc: {val_acc:.2f}%\")\n"
   ]
  },
  {
   "cell_type": "code",
   "execution_count": 15,
   "metadata": {},
   "outputs": [
    {
     "name": "stderr",
     "output_type": "stream",
     "text": [
      "/media/DiscoLocal/IPCV/Carolina/UrbanElementsREID/.conda/lib/python3.10/site-packages/torchvision/models/_utils.py:208: UserWarning: The parameter 'pretrained' is deprecated since 0.13 and may be removed in the future, please use 'weights' instead.\n",
      "  warnings.warn(\n",
      "/media/DiscoLocal/IPCV/Carolina/UrbanElementsREID/.conda/lib/python3.10/site-packages/torchvision/models/_utils.py:223: UserWarning: Arguments other than a weight enum or `None` for 'weights' are deprecated since 0.13 and may be removed in the future. The current behavior is equivalent to passing `weights=ResNet50_Weights.IMAGENET1K_V1`. You can also use `weights=ResNet50_Weights.DEFAULT` to get the most up-to-date weights.\n",
      "  warnings.warn(msg)\n"
     ]
    },
    {
     "name": "stdout",
     "output_type": "stream",
     "text": [
      "Epoch [1/20], Loss: 2.3754\n",
      "            Val Loss: 2.2932 | Val Acc: 68.34%\n",
      "Epoch [2/20], Loss: 1.5991\n",
      "            Val Loss: 1.8172 | Val Acc: 65.83%\n",
      "Epoch [3/20], Loss: 1.2115\n",
      "            Val Loss: 1.5450 | Val Acc: 68.84%\n",
      "Epoch [4/20], Loss: 0.9820\n",
      "            Val Loss: 1.3789 | Val Acc: 70.85%\n",
      "Epoch [5/20], Loss: 0.8371\n",
      "            Val Loss: 1.2436 | Val Acc: 71.36%\n",
      "Epoch [6/20], Loss: 0.7260\n",
      "            Val Loss: 1.1383 | Val Acc: 72.36%\n",
      "Epoch [7/20], Loss: 0.6574\n",
      "            Val Loss: 1.0493 | Val Acc: 73.37%\n",
      "Epoch [8/20], Loss: 0.5908\n",
      "            Val Loss: 0.9822 | Val Acc: 73.87%\n",
      "Epoch [9/20], Loss: 0.5477\n",
      "            Val Loss: 0.9248 | Val Acc: 74.37%\n",
      "Epoch [10/20], Loss: 0.5140\n",
      "            Val Loss: 0.8791 | Val Acc: 74.87%\n",
      "Epoch [11/20], Loss: 0.4654\n",
      "            Val Loss: 0.8365 | Val Acc: 73.37%\n",
      "Epoch [12/20], Loss: 0.4505\n",
      "            Val Loss: 0.7913 | Val Acc: 74.87%\n",
      "Epoch [13/20], Loss: 0.4175\n",
      "            Val Loss: 0.7608 | Val Acc: 75.38%\n",
      "Epoch [14/20], Loss: 0.4067\n",
      "            Val Loss: 0.7224 | Val Acc: 78.39%\n",
      "Epoch [15/20], Loss: 0.3928\n",
      "            Val Loss: 0.6914 | Val Acc: 79.40%\n",
      "Epoch [16/20], Loss: 0.3633\n",
      "            Val Loss: 0.6773 | Val Acc: 77.89%\n",
      "Epoch [17/20], Loss: 0.3539\n",
      "            Val Loss: 0.6501 | Val Acc: 79.40%\n",
      "Epoch [18/20], Loss: 0.3436\n",
      "            Val Loss: 0.6434 | Val Acc: 77.89%\n",
      "Epoch [19/20], Loss: 0.3384\n",
      "            Val Loss: 0.6246 | Val Acc: 78.89%\n",
      "Epoch [20/20], Loss: 0.3282\n",
      "            Val Loss: 0.6058 | Val Acc: 81.91%\n"
     ]
    }
   ],
   "source": [
    "# Model setup\n",
    "model = models.resnet50(pretrained=True)\n",
    "\n",
    "for param in model.parameters():\n",
    "    param.requires_grad = False\n",
    "\n",
    "# Unfreeze last layer\n",
    "for param in model.fc.parameters():\n",
    "    param.requires_grad = True\n",
    "\n",
    "\n",
    "model.fc = nn.Linear(model.fc.in_features, num_classes)\n",
    "model = model.to(device)\n",
    "\n",
    "# Focal Loss and optimizer\n",
    "criterion = FocalLoss(gamma=2.0, weight=weights)\n",
    "optimizer = optim.Adam(model.parameters(), lr=learning_rate)\n",
    "\n",
    "training_loop(model, criterion, optimizer, train_loader, val_loader)"
   ]
  },
  {
   "cell_type": "code",
   "execution_count": 9,
   "metadata": {},
   "outputs": [
    {
     "name": "stdout",
     "output_type": "stream",
     "text": [
      "Requirement already satisfied: seaborn in /media/DiscoLocal/IPCV/Carolina/UrbanElementsREID/.conda/lib/python3.10/site-packages (0.13.2)\n",
      "Requirement already satisfied: scikit-learn in /media/DiscoLocal/IPCV/Carolina/UrbanElementsREID/.conda/lib/python3.10/site-packages (1.6.1)\n",
      "Requirement already satisfied: numpy!=1.24.0,>=1.20 in /media/DiscoLocal/IPCV/Carolina/UrbanElementsREID/.conda/lib/python3.10/site-packages (from seaborn) (1.26.4)\n",
      "Requirement already satisfied: pandas>=1.2 in /media/DiscoLocal/IPCV/Carolina/UrbanElementsREID/.conda/lib/python3.10/site-packages (from seaborn) (2.2.3)\n",
      "Requirement already satisfied: matplotlib!=3.6.1,>=3.4 in /media/DiscoLocal/IPCV/Carolina/UrbanElementsREID/.conda/lib/python3.10/site-packages (from seaborn) (3.10.3)\n",
      "Requirement already satisfied: scipy>=1.6.0 in /media/DiscoLocal/IPCV/Carolina/UrbanElementsREID/.conda/lib/python3.10/site-packages (from scikit-learn) (1.15.3)\n",
      "Requirement already satisfied: joblib>=1.2.0 in /media/DiscoLocal/IPCV/Carolina/UrbanElementsREID/.conda/lib/python3.10/site-packages (from scikit-learn) (1.5.1)\n",
      "Requirement already satisfied: threadpoolctl>=3.1.0 in /media/DiscoLocal/IPCV/Carolina/UrbanElementsREID/.conda/lib/python3.10/site-packages (from scikit-learn) (3.6.0)\n",
      "Requirement already satisfied: contourpy>=1.0.1 in /media/DiscoLocal/IPCV/Carolina/UrbanElementsREID/.conda/lib/python3.10/site-packages (from matplotlib!=3.6.1,>=3.4->seaborn) (1.3.2)\n",
      "Requirement already satisfied: cycler>=0.10 in /media/DiscoLocal/IPCV/Carolina/UrbanElementsREID/.conda/lib/python3.10/site-packages (from matplotlib!=3.6.1,>=3.4->seaborn) (0.12.1)\n",
      "Requirement already satisfied: fonttools>=4.22.0 in /media/DiscoLocal/IPCV/Carolina/UrbanElementsREID/.conda/lib/python3.10/site-packages (from matplotlib!=3.6.1,>=3.4->seaborn) (4.57.0)\n",
      "Requirement already satisfied: kiwisolver>=1.3.1 in /media/DiscoLocal/IPCV/Carolina/UrbanElementsREID/.conda/lib/python3.10/site-packages (from matplotlib!=3.6.1,>=3.4->seaborn) (1.4.8)\n",
      "Requirement already satisfied: packaging>=20.0 in /media/DiscoLocal/IPCV/Carolina/UrbanElementsREID/.conda/lib/python3.10/site-packages (from matplotlib!=3.6.1,>=3.4->seaborn) (25.0)\n",
      "Requirement already satisfied: pillow>=8 in /media/DiscoLocal/IPCV/Carolina/UrbanElementsREID/.conda/lib/python3.10/site-packages (from matplotlib!=3.6.1,>=3.4->seaborn) (11.2.1)\n",
      "Requirement already satisfied: pyparsing>=2.3.1 in /media/DiscoLocal/IPCV/Carolina/UrbanElementsREID/.conda/lib/python3.10/site-packages (from matplotlib!=3.6.1,>=3.4->seaborn) (3.2.3)\n",
      "Requirement already satisfied: python-dateutil>=2.7 in /media/DiscoLocal/IPCV/Carolina/UrbanElementsREID/.conda/lib/python3.10/site-packages (from matplotlib!=3.6.1,>=3.4->seaborn) (2.9.0.post0)\n",
      "Requirement already satisfied: pytz>=2020.1 in /media/DiscoLocal/IPCV/Carolina/UrbanElementsREID/.conda/lib/python3.10/site-packages (from pandas>=1.2->seaborn) (2025.2)\n",
      "Requirement already satisfied: tzdata>=2022.7 in /media/DiscoLocal/IPCV/Carolina/UrbanElementsREID/.conda/lib/python3.10/site-packages (from pandas>=1.2->seaborn) (2025.2)\n",
      "Requirement already satisfied: six>=1.5 in /media/DiscoLocal/IPCV/Carolina/UrbanElementsREID/.conda/lib/python3.10/site-packages (from python-dateutil>=2.7->matplotlib!=3.6.1,>=3.4->seaborn) (1.17.0)\n"
     ]
    }
   ],
   "source": [
    "!pip install seaborn scikit-learn"
   ]
  },
  {
   "cell_type": "code",
   "execution_count": 10,
   "metadata": {},
   "outputs": [],
   "source": [
    "from sklearn.metrics import classification_report, confusion_matrix\n",
    "import matplotlib.pyplot as plt\n",
    "import seaborn as sns"
   ]
  },
  {
   "cell_type": "code",
   "execution_count": 11,
   "metadata": {},
   "outputs": [],
   "source": [
    "def evaluate_model(model, dataloader, class_names, device):\n",
    "    model.eval()\n",
    "    all_preds = []\n",
    "    all_labels = []\n",
    "\n",
    "    with torch.no_grad():\n",
    "        for images, labels in dataloader:\n",
    "            images = images.to(device)\n",
    "            labels = labels.to(device)\n",
    "\n",
    "            outputs = model(images)\n",
    "            # Convert logits to probabilities\n",
    "            probs = F.softmax(outputs, dim=1)  # shape: [batch_size, num_classes]\n",
    "\n",
    "            # Get predicted class and confidence\n",
    "            _, preds = torch.max(probs, dim=1)  # both are [batch_size]\n",
    "\n",
    "            all_preds.extend(preds.cpu().numpy())\n",
    "            all_labels.extend(labels.cpu().numpy())\n",
    "\n",
    "    # Classification report\n",
    "    report = classification_report(\n",
    "        all_labels,\n",
    "        all_preds,\n",
    "        target_names=class_names,\n",
    "        output_dict=True,\n",
    "        zero_division=0  # avoids division by zero\n",
    "    )\n",
    "\n",
    "    # Print a formatted version\n",
    "    print(f\"{'Class':<12} {'Precision':>10} {'Recall':>10} {'F1-score':>10} {'Support':>10}\")\n",
    "    for cls in class_names:\n",
    "        r = report[cls]\n",
    "        print(f\"{cls:<12} {r['precision']:10.2f} {r['recall']:10.2f} {r['f1-score']:10.2f} {r['support']:10}\")\n",
    "\n",
    "    print(f\"\\nOverall Accuracy: {report['accuracy'] * 100:.2f}%\")\n",
    "\n",
    "    return report, all_preds, all_labels\n",
    "\n",
    "def plot_confusion_matrix(all_preds, all_labels, class_names, normalize=False, title='Confusion Matrix'):\n",
    "\n",
    "    # Confusion matrix\n",
    "    cm = confusion_matrix(all_labels, all_preds)\n",
    "    \n",
    "    if normalize:\n",
    "        cm = cm.astype('float') / cm.sum(axis=1)[:, np.newaxis]\n",
    "\n",
    "    plt.figure(figsize=(8, 6))\n",
    "    sns.heatmap(cm, annot=True, fmt=\".2f\" if normalize else \"d\", cmap='Blues',\n",
    "                xticklabels=class_names, yticklabels=class_names)\n",
    "    plt.xlabel(\"Predicted\")\n",
    "    plt.ylabel(\"True\")\n",
    "    plt.title(title)\n",
    "    plt.tight_layout()\n",
    "    plt.show()\n"
   ]
  },
  {
   "cell_type": "code",
   "execution_count": 16,
   "metadata": {},
   "outputs": [
    {
     "name": "stdout",
     "output_type": "stream",
     "text": [
      "Class         Precision     Recall   F1-score    Support\n",
      "Containers         0.98       0.90       0.94      237.0\n",
      "crosswalks         1.00       0.99       0.99      349.0\n",
      "rubishbinss        0.77       0.98       0.86       89.0\n",
      "\n",
      "Overall Accuracy: 95.41%\n"
     ]
    },
    {
     "data": {
      "image/png": "[encoded data removed]",
      "text/plain": [
       "<Figure size 800x600 with 2 Axes>"
      ]
     },
     "metadata": {},
     "output_type": "display_data"
    }
   ],
   "source": [
    "class_names = train_dataset.classes \n",
    "\n",
    "report, pred_labels, real_labels = evaluate_model(model, test_loader, class_names, device)\n",
    "plot_confusion_matrix(pred_labels, real_labels, class_names)\n"
   ]
  },
  {
   "cell_type": "code",
   "execution_count": 17,
   "metadata": {},
   "outputs": [],
   "source": [
    "torch.save(model.state_dict(), 'resnet50_weights.pth')"
   ]
  }
 ],
 "metadata": {
  "kernelspec": {
   "display_name": "Python 3",
   "language": "python",
   "name": "python3"
  },
  "language_info": {
   "codemirror_mode": {
    "name": "ipython",
    "version": 3
   },
   "file_extension": ".py",
   "mimetype": "text/x-python",
   "name": "python",
   "nbconvert_exporter": "python",
   "pygments_lexer": "ipython3",
   "version": "3.10.16"
  }
 },
 "nbformat": 4,
 "nbformat_minor": 2
}
