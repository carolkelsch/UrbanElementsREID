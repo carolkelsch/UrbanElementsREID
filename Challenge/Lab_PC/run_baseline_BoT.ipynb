{
 "cells": [
  {
   "cell_type": "code",
   "execution_count": null,
   "id": "94bf49d1",
   "metadata": {
    "vscode": {
     "languageId": "plaintext"
    }
   },
   "outputs": [],
   "source": [
    "!python tools/train.py --config_file=\"configs/softmax_triplet_UAM.yml\" MODEL.DEVICE_ID \"('0')\" DATASETS.NAMES \"('UAM')\" OUTPUT_DIR \"('local rute to store BOT results...../Results/')\""
   ]
  }
 ],
 "metadata": {
  "language_info": {
   "name": "python"
  }
 },
 "nbformat": 4,
 "nbformat_minor": 5
}
