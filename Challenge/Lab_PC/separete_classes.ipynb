{
 "cells": [
  {
   "cell_type": "code",
   "execution_count": 3,
   "metadata": {},
   "outputs": [],
   "source": [
    "import os\n",
    "import shutil"
   ]
  },
  {
   "cell_type": "code",
   "execution_count": 10,
   "metadata": {},
   "outputs": [
    {
     "name": "stdout",
     "output_type": "stream",
     "text": [
      "['Containers', 'rubishbinss', 'crosswalks']\n",
      "1\n"
     ]
    }
   ],
   "source": [
    "source_folder = '/media/DiscoLocal/IPCV/Carolina/unified/'\n",
    "dest_folder = '/media/DiscoLocal/IPCV/Carolina/UrbAM-ReID_classes/'\n",
    "folders = ['image_train', 'image_test', 'image_query']\n",
    "classes = {'Containers': 1, 'rubishbinss': 3, 'crosswalks': 2}\n",
    "print(list(classes.keys()))\n",
    "print(classes['Containers'])"
   ]
  },
  {
   "cell_type": "code",
   "execution_count": 11,
   "metadata": {},
   "outputs": [
    {
     "name": "stdout",
     "output_type": "stream",
     "text": [
      "copying files from /media/DiscoLocal/IPCV/Carolina/unified/image_train to /media/DiscoLocal/IPCV/Carolina/UrbAM-ReID_classes/Containers/image_train\n",
      "copying files from /media/DiscoLocal/IPCV/Carolina/unified/image_test to /media/DiscoLocal/IPCV/Carolina/UrbAM-ReID_classes/Containers/image_test\n",
      "copying files from /media/DiscoLocal/IPCV/Carolina/unified/image_query to /media/DiscoLocal/IPCV/Carolina/UrbAM-ReID_classes/Containers/image_query\n",
      "copying files from /media/DiscoLocal/IPCV/Carolina/unified/image_train to /media/DiscoLocal/IPCV/Carolina/UrbAM-ReID_classes/rubishbinss/image_train\n",
      "copying files from /media/DiscoLocal/IPCV/Carolina/unified/image_test to /media/DiscoLocal/IPCV/Carolina/UrbAM-ReID_classes/rubishbinss/image_test\n",
      "copying files from /media/DiscoLocal/IPCV/Carolina/unified/image_query to /media/DiscoLocal/IPCV/Carolina/UrbAM-ReID_classes/rubishbinss/image_query\n",
      "copying files from /media/DiscoLocal/IPCV/Carolina/unified/image_train to /media/DiscoLocal/IPCV/Carolina/UrbAM-ReID_classes/crosswalks/image_train\n",
      "copying files from /media/DiscoLocal/IPCV/Carolina/unified/image_test to /media/DiscoLocal/IPCV/Carolina/UrbAM-ReID_classes/crosswalks/image_test\n",
      "copying files from /media/DiscoLocal/IPCV/Carolina/unified/image_query to /media/DiscoLocal/IPCV/Carolina/UrbAM-ReID_classes/crosswalks/image_query\n"
     ]
    }
   ],
   "source": [
    "for classs in list(classes.keys()):\n",
    "    for folder in folders:\n",
    "        source_path = os.path.join(source_folder, folder)\n",
    "        dest_path = os.path.join(dest_folder, classs, folder)\n",
    "        print(f'copying files from {source_path} to {dest_path}')\n",
    "        files = os.listdir(source_path)\n",
    "        for f in files:\n",
    "            if f.endswith('.jpg') and f.startswith(str(classes[classs])):\n",
    "                shutil.copyfile(os.path.join(source_path, f), os.path.join(dest_path, f))"
   ]
  }
 ],
 "metadata": {
  "kernelspec": {
   "display_name": "Python 3",
   "language": "python",
   "name": "python3"
  },
  "language_info": {
   "codemirror_mode": {
    "name": "ipython",
    "version": 3
   },
   "file_extension": ".py",
   "mimetype": "text/x-python",
   "name": "python",
   "nbconvert_exporter": "python",
   "pygments_lexer": "ipython3",
   "version": "3.10.16"
  }
 },
 "nbformat": 4,
 "nbformat_minor": 2
}
