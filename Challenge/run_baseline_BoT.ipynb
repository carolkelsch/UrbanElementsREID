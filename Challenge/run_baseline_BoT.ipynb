{
 "cells": [
  {
   "cell_type": "code",
   "execution_count": null,
   "id": "94bf49d1",
   "metadata": {
    "vscode": {
     "languageId": "plaintext"
    }
   },
   "outputs": [],
   "source": [
    "!python tools/train.py --config_file=\"configs/softmax_triplet_UAM.yml\" MODEL.DEVICE_ID \"('0')\" DATASETS.NAMES \"('UAM')\" OUTPUT_DIR \"('local rute to store BOT results...../Results/')\""
   ]
  },
  {
   "cell_type": "code",
   "execution_count": null,
   "id": "725117ea",
   "metadata": {
    "vscode": {
     "languageId": "plaintext"
    }
   },
   "outputs": [],
   "source": [
    "!python tools/update.py --config_file=./configs/SOA/softmax_triplet_UAM_test.yml --track=\"local rute to store BOT results...../Results/track.txt\" MODEL.DEVICE_ID \"('0')\" DATASETS.NAMES \"('UAM_test')\" TEST.NECK_FEAT \"('after')\" TEST.FEAT_NORM \"('yes')\" MODEL.PRETRAIN_CHOICE \"('self')\" TEST.RE_RANKING \"('yes')\" TEST.WEIGHT \"('local rute to store BOT results...../Results/resnet50_model_100.pth')\""
   ]
  },
  {
   "cell_type": "code",
   "execution_count": null,
   "id": "4f33a419",
   "metadata": {
    "vscode": {
     "languageId": "plaintext"
    }
   },
   "outputs": [],
   "source": [
    "!python  Evaluate_UrbAM-ReID.py --track \"local rute to store BOT results...../Results/track.txt\" --path \"local rute to dataset...../ICIP_UrbAM-ReID/splits/Containers/containers/\""
   ]
  },
  {
   "cell_type": "code",
   "execution_count": null,
   "id": "858bf1d6",
   "metadata": {
    "vscode": {
     "languageId": "plaintext"
    }
   },
   "outputs": [],
   "source": []
  },
  {
   "cell_type": "code",
   "execution_count": null,
   "id": "eb6f92c6",
   "metadata": {
    "vscode": {
     "languageId": "plaintext"
    }
   },
   "outputs": [],
   "source": []
  }
 ],
 "metadata": {
  "language_info": {
   "name": "python"
  }
 },
 "nbformat": 4,
 "nbformat_minor": 5
}
